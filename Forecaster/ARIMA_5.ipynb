{
 "cells": [
  {
   "cell_type": "markdown",
   "metadata": {},
   "source": [
    "导入必要的Python库："
   ]
  },
  {
   "cell_type": "code",
   "execution_count": null,
   "metadata": {},
   "outputs": [],
   "source": [
    "from __future__ import absolute_import, division, print_function, unicode_literals\n",
    "\n",
    "import os\n",
    "import pickle\n",
    "import time\n",
    "from Data import Data\n",
    "\n",
    "import matplotlib as mpl\n",
    "import matplotlib.pyplot as plt\n",
    "import numpy as np\n",
    "import pandas as pd\n",
    "import tensorflow as tf"
   ]
  },
  {
   "cell_type": "markdown",
   "metadata": {},
   "source": [
    "设置__可视化参数__："
   ]
  },
  {
   "cell_type": "code",
   "execution_count": null,
   "metadata": {},
   "outputs": [],
   "source": [
    "mpl.rcParams['figure.figsize'] = (20, 6)\n",
    "mpl.rcParams['axes.grid'] = False"
   ]
  },
  {
   "cell_type": "markdown",
   "metadata": {},
   "source": [
    "初始化__随机种子__："
   ]
  },
  {
   "cell_type": "code",
   "execution_count": null,
   "metadata": {},
   "outputs": [],
   "source": [
    "tf.random.set_seed(2020)"
   ]
  },
  {
   "cell_type": "markdown",
   "metadata": {},
   "source": [
    "设置默认__浮点数类型__："
   ]
  },
  {
   "cell_type": "code",
   "execution_count": null,
   "metadata": {},
   "outputs": [],
   "source": [
    "tf.keras.backend.set_floatx('float64')"
   ]
  },
  {
   "cell_type": "markdown",
   "metadata": {},
   "source": [
    "载入数据："
   ]
  },
  {
   "cell_type": "code",
   "execution_count": null,
   "metadata": {},
   "outputs": [],
   "source": [
    "# Alibaba dataset\n",
    "# data = dict()\n",
    "# for filename in os.listdir('.'):\n",
    "#     if filename.endswith('.pickle'):\n",
    "#         with open(filename, 'rb') as f:\n",
    "#             data[filename[filename.rindex('_') + 1:filename.index('.')]] = pickle.load(f)[3000:]\n",
    "# data = pd.DataFrame(data)\n",
    "# data.head(5)\n",
    "\n",
    "# Bustracker Dataset\n",
    "data = pd.read_csv('BusTrackerData/1.csv',names=['date', 'freq'])\n",
    "# data = pd.read_csv('SDSS/DTW/149.csv',names=['date', 'freq'])\n",
    "data = data.dropna(axis=0,how='any')\n",
    "data['date'] = pd.to_datetime(data['date'])\n",
    "# df.reset_index(drop=True,inplace=True)\n",
    "data = data.set_index('date')\n",
    "\n",
    "# SDSS Dataset\n",
    "# data = pd.read_csv('SDSS/DTW149.csv',names=['date', 'freq'])\n",
    "# data = data.dropna(axis=0,how='any')\n",
    "# data['date'] = pd.to_datetime(data['date'])\n",
    "# # df.reset_index(drop=True,inplace=True)\n",
    "# data = data.set_index('date')\n",
    "\n",
    "    \n",
    "data.head(5)"
   ]
  },
  {
   "cell_type": "markdown",
   "metadata": {},
   "source": [
    "数据可视化："
   ]
  },
  {
   "cell_type": "code",
   "execution_count": null,
   "metadata": {},
   "outputs": [],
   "source": [
    "data.plot(subplots=True)\n",
    "plt.show()"
   ]
  },
  {
   "cell_type": "code",
   "execution_count": null,
   "metadata": {},
   "outputs": [],
   "source": [
    "# TRAIN_SPLIT = 800\n",
    "TRAIN_SPLIT = 7000  # Bustracker\n",
    "# TRAIN_SPLIT = 4000  # SDSS\n",
    "\n",
    "HISTORY_SIZE = 30\n",
    "# TARGET_SIZE = 0\n",
    "bus_series = data['freq'].values\n",
    "print(len(bus_series))\n",
    "print(bus_series)"
   ]
  },
  {
   "cell_type": "code",
   "execution_count": null,
   "metadata": {},
   "outputs": [],
   "source": [
    "from statsmodels.tsa.api import SARIMAX\n",
    "\n",
    "test_length = len(bus_series) - TRAIN_SPLIT\n",
    "horizon = 5\n",
    "\n",
    "pred_list = []\n",
    "order_parm = (2,1,2)\n",
    "y_true_list = bus_series[TRAIN_SPLIT+horizon:]\n",
    "for i in range(test_length - horizon):\n",
    "    tempList = bus_series[:TRAIN_SPLIT+i]\n",
    "    for j in range(horizon+1):\n",
    "        fit = SARIMAX(tempList, order=order_parm).fit(disp=0)\n",
    "        forecast = fit.forecast()[0]\n",
    "        tempList = np.append(tempList, forecast)\n",
    "    pred_list.append(forecast)"
   ]
  },
  {
   "cell_type": "code",
   "execution_count": null,
   "metadata": {},
   "outputs": [],
   "source": [
    "print(len(pred_list))\n",
    "print(len(y_true_list))"
   ]
  },
  {
   "cell_type": "code",
   "execution_count": null,
   "metadata": {},
   "outputs": [],
   "source": [
    "mse = tf.keras.losses.MeanSquaredError()\n",
    "\n",
    "final_loss = mse(np.array(pred_list), np.array(y_true_list)).numpy()\n",
    "print(final_loss)"
   ]
  },
  {
   "cell_type": "code",
   "execution_count": null,
   "metadata": {},
   "outputs": [],
   "source": [
    "resultFrame = dict()\n",
    "resultFrame['True'] = y_true_list\n",
    "resultFrame['Arima'] = pred_list\n",
    "frame = pd.DataFrame(resultFrame)\n",
    "frame.to_csv('Model/BusTracker/Arima' + str(order_parm) + '-' + str(horizon) + '.csv')"
   ]
  }
 ],
 "metadata": {
  "file_extension": ".py",
  "kernelspec": {
   "display_name": "Python 3",
   "language": "python",
   "name": "python3"
  },
  "language_info": {
   "codemirror_mode": {
    "name": "ipython",
    "version": 3
   },
   "file_extension": ".py",
   "mimetype": "text/x-python",
   "name": "python",
   "nbconvert_exporter": "python",
   "pygments_lexer": "ipython3",
   "version": "3.7.6"
  },
  "mimetype": "text/x-python",
  "name": "python",
  "npconvert_exporter": "python",
  "pycharm": {
   "stem_cell": {
    "cell_type": "raw",
    "metadata": {
     "collapsed": false
    },
    "source": []
   }
  },
  "pygments_lexer": "ipython3",
  "version": 3
 },
 "nbformat": 4,
 "nbformat_minor": 2
}
